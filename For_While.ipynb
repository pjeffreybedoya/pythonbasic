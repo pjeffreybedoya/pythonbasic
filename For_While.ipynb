{
  "nbformat": 4,
  "nbformat_minor": 0,
  "metadata": {
    "colab": {
      "name": "For-While.ipynb",
      "provenance": [],
      "authorship_tag": "ABX9TyMA7ycOrgWAECJSTsxWOIqP",
      "include_colab_link": true
    },
    "kernelspec": {
      "name": "python3",
      "display_name": "Python 3"
    },
    "language_info": {
      "name": "python"
    }
  },
  "cells": [
    {
      "cell_type": "markdown",
      "metadata": {
        "id": "view-in-github",
        "colab_type": "text"
      },
      "source": [
        "<a href=\"https://colab.research.google.com/github/pjeffreybedoya/pythonbasic/blob/pjeffreybedoya-patch-1/For_While.ipynb\" target=\"_parent\"><img src=\"https://colab.research.google.com/assets/colab-badge.svg\" alt=\"Open In Colab\"/></a>"
      ]
    },
    {
      "cell_type": "code",
      "metadata": {
        "id": "4Ac-Cro1cIjx"
      },
      "source": [
        ""
      ],
      "execution_count": null,
      "outputs": []
    },
    {
      "cell_type": "markdown",
      "metadata": {
        "id": "vIvMwCJecJT1"
      },
      "source": [
        "#### Ciclo For"
      ]
    }
  ]
}